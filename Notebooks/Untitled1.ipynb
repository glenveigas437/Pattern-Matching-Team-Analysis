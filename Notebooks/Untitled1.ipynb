{
 "cells": [
  {
   "cell_type": "code",
   "execution_count": 3,
   "id": "e2f8e829",
   "metadata": {},
   "outputs": [],
   "source": [
    "import pandas as pd"
   ]
  },
  {
   "cell_type": "code",
   "execution_count": 6,
   "id": "f721f155",
   "metadata": {},
   "outputs": [],
   "source": [
    "ds=pd.read_csv('FIFA21_official_data.csv')"
   ]
  },
  {
   "cell_type": "code",
   "execution_count": 9,
   "id": "ee2c7ef6",
   "metadata": {},
   "outputs": [],
   "source": [
    "dats=ds[ds['Club']=='Manchester United']"
   ]
  },
  {
   "cell_type": "code",
   "execution_count": 11,
   "id": "2bacddaa",
   "metadata": {},
   "outputs": [],
   "source": [
    "dats.to_csv('123.csv')"
   ]
  },
  {
   "cell_type": "code",
   "execution_count": null,
   "id": "cb0d0dac",
   "metadata": {},
   "outputs": [],
   "source": []
  }
 ],
 "metadata": {
  "kernelspec": {
   "display_name": "Python 3",
   "language": "python",
   "name": "python3"
  },
  "language_info": {
   "codemirror_mode": {
    "name": "ipython",
    "version": 3
   },
   "file_extension": ".py",
   "mimetype": "text/x-python",
   "name": "python",
   "nbconvert_exporter": "python",
   "pygments_lexer": "ipython3",
   "version": "3.9.5"
  }
 },
 "nbformat": 4,
 "nbformat_minor": 5
}
