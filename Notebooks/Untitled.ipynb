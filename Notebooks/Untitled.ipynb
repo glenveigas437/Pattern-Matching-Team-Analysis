{
 "cells": [
  {
   "cell_type": "code",
   "execution_count": 203,
   "id": "ebc20238",
   "metadata": {},
   "outputs": [],
   "source": [
    "import pandas as pd\n",
    "import matplotlib.pyplot as plt \n",
    "import matplotlib.patches as mpatches"
   ]
  },
  {
   "cell_type": "code",
   "execution_count": 89,
   "id": "77357215",
   "metadata": {},
   "outputs": [],
   "source": [
    "data = pd.read_csv('PlayerData.csv')"
   ]
  },
  {
   "cell_type": "code",
   "execution_count": 143,
   "id": "1dc55f51",
   "metadata": {},
   "outputs": [],
   "source": [
    "def goalDistribution():\n",
    "    goalDict={}\n",
    "    \n",
    "    for i in range(len(data)):\n",
    "        if(data['Goals'][i]):\n",
    "            if(data['Position'][i] not in goalDict):\n",
    "                goalDict[data['Position'][i]]=0\n",
    "            goalDict[data['Position'][i]]+=1\n",
    "    \n",
    "    totalGoalScorers=sum(goalDict.values())\n",
    "    for i in range(len(goalDict)):\n",
    "        goalDict[(list(goalDict.keys())[i])]=(goalDict[(list(goalDict.keys())[i])]/totalGoalScorers)*100\n",
    "    \n",
    "    \n",
    "    a=list(goalDict.keys())\n",
    "    b=list(goalDict.values())\n",
    "    \n",
    "    x=pd.DataFrame(b,a)\n",
    "    print(x)\n",
    "    plt.pie(b, labels=a)\n",
    "    plt.show()"
   ]
  },
  {
   "cell_type": "code",
   "execution_count": 144,
   "id": "41ecaa2f",
   "metadata": {},
   "outputs": [
    {
     "name": "stdout",
     "output_type": "stream",
     "text": [
      "                                  0\n",
      "Centre Back                   12.50\n",
      "Central Attacking Midfielder  25.00\n",
      "Striker                       25.00\n",
      "Left Winger                   12.50\n",
      "Defensive Midfielder          12.50\n",
      "Left Back                      6.25\n",
      "Right Back                     6.25\n"
     ]
    },
    {
     "data": {
      "image/png": "[encoded data removed]",
      "text/plain": [
       "<Figure size 432x288 with 1 Axes>"
      ]
     },
     "metadata": {},
     "output_type": "display_data"
    }
   ],
   "source": [
    "goalDistribution()"
   ]
  },
  {
   "cell_type": "code",
   "execution_count": 114,
   "id": "83767326",
   "metadata": {},
   "outputs": [],
   "source": [
    "import pandas as pd\n",
    "import seaborn as sns\n",
    "import matplotlib.pyplot as plt\n",
    "import numpy as np"
   ]
  },
  {
   "cell_type": "code",
   "execution_count": 128,
   "id": "9c509d73",
   "metadata": {},
   "outputs": [],
   "source": [
    "df=pd.read_csv('Manchester United Player Data.csv')"
   ]
  },
  {
   "cell_type": "code",
   "execution_count": 192,
   "id": "8b70f573",
   "metadata": {},
   "outputs": [],
   "source": [
    "def BestTeam(df):\n",
    "    a = 0.5\n",
    "    b = 1\n",
    "    c= 2\n",
    "    d = 3\n",
    " \n",
    "    #GoalKeeping Characterstics\n",
    "    df['gk_Shot_Stopper'] = (b*df.Reactions + b*df.Composure + a*df.SprintSpeed + a*df.Strength +  b*df.GKPositioning + c*df.GKDiving + d*df.GKReflexes + b*df.GKHandling)/(2*a + 4*b + 2*c + 1*d)\n",
    "    df['gk_Sweeper'] = (b*df.Reactions + b*df.Composure + b*df.SprintSpeed + a*df.ShortPassing + a*df.LongPassing + b*df.GKPositioning + b*df.GKDiving + d*df.GKReflexes + b*df.GKHandling + d*df.GKKicking + c*df.Vision)/(2*a + 4*b + 3*c + 2*d)\n",
    "    \n",
    "    shotStopper = df.sort_values('gk_Shot_Stopper', ascending=False)[:4]\n",
    "    shotStopperX = np.array(list(shotStopper['Player Name']))\n",
    "    shotStopperY = np.array(list(shotStopper['gk_Shot_Stopper']))\n",
    "    \n",
    "    sweeper = df.sort_values('gk_Sweeper', ascending=False)[:4]\n",
    "    sweeperX = np.array(list(sweeper['Player Name']))\n",
    "    sweeperY = np.array(list(sweeper['gk_Sweeper']))\n",
    "    \n",
    "    #Choosing Defenders\n",
    "    df['df_centre_backs'] = ( d*df.Reactions + c*df.Interceptions + d*df.SlidingTackle + d*df.StandingTackle + b*df.Vision+ b*df.Composure + b*df.Crossing +a*df.ShortPassing + b*df.LongPassing + c*df.Acceleration + b*df.SprintSpeed\n",
    "    + d*df.Stamina + d*df.Height//2 + d*df.HeadingAccuracy + b*df.LongShots  + c*df.Aggression)/(6*b + 3*c + 7*d)\n",
    "    df['df_wb_Wing_Backs'] = (b*df.BallControl + a*df.Dribbling  + d*df.SlidingTackle + d*df.StandingTackle + a*df.Positioning + c*df.Vision + c*df.Crossing + b*df.ShortPassing + c*df.LongPassing + d*df.Acceleration +d*df.SprintSpeed + c*df.Stamina + a*df.Finishing)/(4*a + 2*b + 4*c + 4*d)\n",
    "\n",
    "    \n",
    "    cb = df[(df['Position'] == 'Centre Back')].sort_values('df_centre_backs', ascending=False)\n",
    "    cbX = np.array(list(cb['Player Name']))\n",
    "    cbY = np.array(list(cb['df_centre_backs']))\n",
    "    \n",
    "    lb = df[(df['Position'] == 'Left Back')].sort_values('df_wb_Wing_Backs', ascending=False)\n",
    "    lbX = np.array(list(lb['Player Name']))\n",
    "    lbY = np.array(list(lb['df_wb_Wing_Backs']))\n",
    "    \n",
    "    rb = df[(df['Position'] == 'Right Back')].sort_values('df_wb_Wing_Backs', ascending=False)\n",
    "    rbX = np.array(list(rb['Player Name']))\n",
    "    rbY = np.array(list(rb['df_wb_Wing_Backs']))\n",
    "    \n",
    "    \n",
    "    df['mf_playmaker'] = (d*df.BallControl + d*df.Dribbling + d*df.Reactions + d*df.Vision + c*df.Positioning + c*df.Crossing + d*df.ShortPassing + c*df.LongPassing + c*df.Curve + b*df.LongShots + c*df.FKAccuracy)/(1*a + 1*b + 4*c + 4*d)\n",
    "    df['mf_beast'] = (d*df.Agility + c*df.Balance + b*df.Height//2 + c*df.Strength + d*df.Stamina + a*df.SprintSpeed + c*df.Acceleration + d*df.ShortPassing + c*df.Aggression + d*df.Reactions + b*df.StandingTackle + b*df.SlidingTackle + b*df.Interceptions)/(1*a + 5*b + 4*c + 4*d)\n",
    "    df['mf_controller'] = (b*df.WeakFoot + d*df.BallControl + a*df.Dribbling + a*df.Reactions + c*df.Vision + c*df.Composure + d*df.ShortPassing + d*df.LongPassing)/(2*c + 3*d + 4*a)\n",
    "    \n",
    "    cdm = df[(df['Position'] == 'Defensive Midfielder')].sort_values('mf_beast', ascending=False)\n",
    "    cdmX = np.array(list(cdm['Player Name']))\n",
    "    cdmY = np.array(list(cdm['mf_playmaker']))\n",
    "    \n",
    "    cam = df[(df['Position'] == 'Central Attacking Midfielder')].sort_values('mf_playmaker', ascending=False)\n",
    "    camX = np.array(list(cam['Player Name']))\n",
    "    camY = np.array(list(cam['mf_playmaker']))\n",
    "    \n",
    "    cam1 = df[(df['Position'] == 'Central Attacking Midfielder') | (df['Position'] == 'Defensive Midfielder') ].sort_values('mf_controller', ascending=False)[:5]\n",
    "    cam1X = np.array(list(cam1['Player Name']))\n",
    "    cam1Y = np.array(list(cam1['mf_playmaker']))\n",
    "    \n",
    "    df['att_left_wing'] = (c*df.WeakFoot + c*df.BallControl + c*df.Dribbling + c*df.SprintSpeed + d*df.Acceleration + b*df.Vision + c*df.Crossing + b*df.ShortPassing + b*df.LongPassing + b*df.Aggression + b*df.Agility + a*df.Curve + c*df.LongShots + b*df.FKAccuracy + d*df.Finishing)/(a + 6*b + 6*c + 2*d)\n",
    "    df['att_right_wing'] = (c*df.WeakFoot + c*df.BallControl + c*df.Dribbling + c*df.SprintSpeed + d*df.Acceleration + b*df.Vision + c*df.Crossing + b*df.ShortPassing + b*df.LongPassing + b*df.Aggression + b*df.Agility + a*df.Curve + c*df.LongShots + b*df.FKAccuracy + d*df.Finishing)/(a + 6*b + 6*c + 2*d)\n",
    "    df['att_striker'] = (b*df.WeakFoot + b*df.BallControl + a*df.Vision + b*df.Aggression + b*df.Agility + a*df.Curve + a*df.LongShots + d*df.Balance + d*df.Finishing + d*df.HeadingAccuracy + c*df.Height//2 + c*df.Dribbling)/(3*a + 4*b + 2*c + 3*d)\n",
    "    \n",
    "    lw = df[(df['Position'] == 'Left Winger')].sort_values('att_left_wing', ascending=False)\n",
    "    lwX = np.array(list(lw['Player Name']))\n",
    "    lwY = np.array(list(lw['att_left_wing']))\n",
    "    \n",
    "    rw = df[(df['Position'] == 'Right Winger')].sort_values('att_right_wing', ascending=False)\n",
    "    rwX = np.array(list(rw['Player Name']))\n",
    "    rwY = np.array(list(rw['att_right_wing']))\n",
    "    \n",
    "    st = df[(df['Position'] == 'Striker')].sort_values('att_striker', ascending=False)\n",
    "    stX = np.array(list(st['Player Name']))\n",
    "    stY = np.array(list(st['att_striker']))\n",
    "    \n",
    "    team=[]\n",
    "    teamStrength=0\n",
    "    team.append(shotStopperX[0])\n",
    "    teamStrength+=shotStopperY[0]\n",
    "    \n",
    "    team.append(lbX[0])\n",
    "    teamStrength+=lbY[0]\n",
    "    \n",
    "    for i in range(2):\n",
    "        team.append(cbX[i])\n",
    "        teamStrength+=cbY[i]\n",
    "        \n",
    "    team.append(rbX[0])\n",
    "    teamStrength+=rbY[0]\n",
    "    \n",
    "    team.append(cdmX[0])\n",
    "    teamStrength+=cdmY[i]\n",
    "    \n",
    "    for i in range(2):\n",
    "        team.append(camX[i])\n",
    "        teamStrength+=camY[i]\n",
    "        \n",
    "    team.append(lwX[0])\n",
    "    teamStrength+=lwY[0]\n",
    "    \n",
    "    team.append(rwX[0])\n",
    "    teamStrength+=rwY[0]\n",
    "    \n",
    "    team.append(stX[0])\n",
    "    teamStrength+=lwY[0]\n",
    "    \n",
    "    return team, int(teamStrength//10)"
   ]
  },
  {
   "cell_type": "code",
   "execution_count": 193,
   "id": "71d56541",
   "metadata": {},
   "outputs": [
    {
     "data": {
      "text/plain": [
       "(['David De Gea',\n",
       "  'Alex Telles',\n",
       "  'Victor Lindelof',\n",
       "  'Harry Maguire',\n",
       "  'Aaron Wan-Bissaka',\n",
       "  'Fred',\n",
       "  'Paul Pogba',\n",
       "  'Bruno Fernandes',\n",
       "  'Marcus Rashford',\n",
       "  'Jadon Sancho',\n",
       "  'Anthony Martial'],\n",
       " 89)"
      ]
     },
     "execution_count": 193,
     "metadata": {},
     "output_type": "execute_result"
    }
   ],
   "source": [
    "BestTeam(df)"
   ]
  },
  {
   "cell_type": "code",
   "execution_count": 204,
   "id": "e0a1b147",
   "metadata": {},
   "outputs": [],
   "source": [
    "def draw_pitch(ax):\n",
    "    # focus on only half of the pitch\n",
    "    #Pitch Outline & Centre Line\n",
    "    Pitch = mpatches.Rectangle([0,0], width = 120, height = 80, fill = False)\n",
    "    #Left, Right Penalty Area and midline\n",
    "    LeftPenalty = mpatches.Rectangle([0,22.3], width = 14.6, height = 35.3, fill = False)\n",
    "    RightPenalty = mpatches.Rectangle([105.4,22.3], width = 14.6, height = 35.3, fill = False)\n",
    "    midline = mpatches.ConnectionPatch([60,0], [60,80], \"data\", \"data\")\n",
    "\n",
    "    #Left, Right 6-yard Box\n",
    "    LeftSixYard = mpatches.Rectangle([0,32], width = 4.9, height = 16, fill = False)\n",
    "    RightSixYard = mpatches.Rectangle([115.1,32], width = 4.9, height = 16, fill = False)\n",
    "\n",
    "\n",
    "    #Prepare Circles\n",
    "    centreCircle = plt.Circle((60,40),8.1,color=\"black\", fill = False)\n",
    "    centreSpot = plt.Circle((60,40),0.71,color=\"black\")\n",
    "    #Penalty spots and Arcs around penalty boxes\n",
    "    leftPenSpot = plt.Circle((9.7,40),0.71,color=\"black\")\n",
    "    rightPenSpot = plt.Circle((110.3,40),0.71,color=\"black\")\n",
    "    leftArc = mpatches.Arc((9.7,40),height=16.2,width=16.2,angle=0,theta1=310,theta2=50,color=\"black\")\n",
    "    rightArc = mpatches.Arc((110.3,40),height=16.2,width=16.2,angle=0,theta1=130,theta2=230,color=\"black\")\n",
    "    \n",
    "    element = [Pitch, LeftPenalty, RightPenalty, midline, LeftSixYard, RightSixYard, centreCircle, \n",
    "               centreSpot, rightPenSpot, leftPenSpot, leftArc, rightArc]\n",
    "    for i in element:\n",
    "        ax.add_patch(i)"
   ]
  },
  {
   "cell_type": "code",
   "execution_count": 205,
   "id": "b333dc7f",
   "metadata": {},
   "outputs": [
    {
     "data": {
      "image/png": "[encoded data removed]",
      "text/plain": [
       "<Figure size 504x360 with 1 Axes>"
      ]
     },
     "metadata": {
      "needs_background": "light"
     },
     "output_type": "display_data"
    }
   ],
   "source": [
    "fig=plt.figure() #set up the figures\n",
    "fig.set_size_inches(7, 5)\n",
    "ax=fig.add_subplot(1,1,1)\n",
    "draw_pitch(ax) #overlay our different objects on the pitch\n",
    "plt.ylim(-2, 82)\n",
    "plt.xlim(-2, 122)\n",
    "plt.axis('off')\n",
    "plt.show()"
   ]
  },
  {
   "cell_type": "code",
   "execution_count": null,
   "id": "0851b8d8",
   "metadata": {},
   "outputs": [],
   "source": []
  }
 ],
 "metadata": {
  "kernelspec": {
   "display_name": "Python 3",
   "language": "python",
   "name": "python3"
  },
  "language_info": {
   "codemirror_mode": {
    "name": "ipython",
    "version": 3
   },
   "file_extension": ".py",
   "mimetype": "text/x-python",
   "name": "python",
   "nbconvert_exporter": "python",
   "pygments_lexer": "ipython3",
   "version": "3.9.5"
  }
 },
 "nbformat": 4,
 "nbformat_minor": 5
}
